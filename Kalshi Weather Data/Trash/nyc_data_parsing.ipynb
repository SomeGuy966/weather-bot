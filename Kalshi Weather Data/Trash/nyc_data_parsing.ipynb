{
 "cells": [
  {
   "cell_type": "code",
   "execution_count": 1,
   "id": "4099ee63-34ba-4d43-8120-2e536ac4869b",
   "metadata": {},
   "outputs": [],
   "source": [
    "import pandas as pd\n",
    "import numpy as np\n",
    "import matplotlib.pyplot as plt\n",
    "\n",
    "import warnings\n",
    "warnings.filterwarnings(\"ignore\")"
   ]
  },
  {
   "cell_type": "code",
   "execution_count": 2,
   "id": "e2257be4-de18-4e91-adf4-e7647411612b",
   "metadata": {},
   "outputs": [],
   "source": [
    "dfs = []\n",
    "\n",
    "for year in range(2015, 2026):\n",
    "    dummy = pd.read_csv(f\"nyc_2015-2025/nyc_{year}.csv\")\n",
    "\n",
    "    dfs.append(dummy)"
   ]
  },
  {
   "cell_type": "code",
   "execution_count": 3,
   "id": "06ce8458-9233-46d3-a084-ae746619d4dc",
   "metadata": {},
   "outputs": [],
   "source": [
    "df = pd.DataFrame()\n",
    "df = pd.concat(dfs, ignore_index=True)"
   ]
  },
  {
   "cell_type": "code",
   "execution_count": 4,
   "id": "1caa68c8-f304-4989-a26e-212c5174d74b",
   "metadata": {},
   "outputs": [],
   "source": [
    "# Remove useless columns\n",
    "df.drop(columns=['AA1', 'AA2', 'AA3', 'AB1', 'AD1', 'AE1',\n",
    "       'AH1', 'AH2', 'AH3', 'AH4', 'AH5', 'AH6', 'AI1', 'AI2', 'AI3', 'AI4',\n",
    "       'AI5', 'AI6', 'AJ1', 'AK1', 'AM1', 'AN1', 'AT1', 'AT2', 'AT3', 'AT4',\n",
    "       'AT5', 'AT6', 'AT7', 'AT8', 'AU1', 'AU2', 'AW1', 'AW2', 'AW3', 'AX1',\n",
    "       'AX2', 'AX3', 'AX4', 'GA1', 'GA2', 'GA3', 'GD1', 'GD2', 'GD3', 'GE1',\n",
    "       'GF1', 'KA1', 'KA2', 'KB1', 'KB2', 'KB3', 'KC1', 'KC2', 'KD1', 'KD2',\n",
    "       'KE1', 'KG1', 'KG2', 'MA1', 'MD1', 'MF1', 'MG1', 'MH1', 'MK1', 'MW1',\n",
    "       'OC1', 'OD1', 'OE1', 'OE2', 'OE3', 'RH1', 'RH2', 'RH3', 'WA1', 'REM',\n",
    "       'EQD', 'GJ1', 'AL1', 'SOURCE', 'LATITUDE', 'LONGITUDE', 'ELEVATION', 'NAME', 'STATION',\n",
    "                   'REPORT_TYPE', 'QUALITY_CONTROL'], inplace=True)"
   ]
  },
  {
   "cell_type": "code",
   "execution_count": 5,
   "id": "5db92c03-f318-443b-a750-8824eb142099",
   "metadata": {},
   "outputs": [],
   "source": [
    "# Rename columns to readable names\n",
    "df.rename(columns={'TMP' : 'temp',\n",
    "                     'CIG' : 'cloud_ceiling_height', \n",
    "                     'VIS' : 'visibility', \n",
    "                     'DEW' : 'dew_point_pressure',\n",
    "                     'SLP' : 'sea_level_pressure',\n",
    "                     'WND' : 'wind',\n",
    "                     'DATE' : 'datetime',\n",
    "                     'CALL_SIGN': 'call_sign'},\n",
    "                     inplace=True)"
   ]
  },
  {
   "cell_type": "code",
   "execution_count": 6,
   "id": "f3df7d39-6c11-49f7-addd-9d60f5b49545",
   "metadata": {},
   "outputs": [],
   "source": [
    "# Convert the 'date' feature from a string object to a true datetime object, then set it as the index\n",
    "df['datetime'] = pd.to_datetime(df['datetime'], utc=True)\n",
    "df = df.set_index('datetime')\n",
    "\n",
    "df[\"date\"] = df.index.normalize() # midnight stamp\n",
    "\n",
    "df = df[['date', 'call_sign', 'temp', 'cloud_ceiling_height', 'visibility', 'dew_point_pressure', 'sea_level_pressure', 'wind']]"
   ]
  },
  {
   "cell_type": "code",
   "execution_count": 15,
   "id": "bd1f98a6-f92b-4db9-ab59-da27189b4f68",
   "metadata": {},
   "outputs": [
    {
     "data": {
      "text/plain": [
       "'\\n# 1. Filter out the “invalid” rows where temp starts with \\'+9999\\'\\ninvalids = df[df[\\'temp\\'].str.startswith(\\'+9999\\')]\\n\\n# 2. Count how many invalids occur in each hour (0–23)\\nfreq_by_hour = (\\n    invalids\\n    .groupby(invalids.index.hour)\\n    .size()\\n    .reindex(range(24), fill_value=0)\\n)\\n\\n# 3. Plot a bar chart\\nplt.figure(figsize=(10, 5))\\nfreq_by_hour.plot(kind=\\'bar\\')\\nplt.xlabel(\\'Hour of Day\\')\\nplt.ylabel(\\'Count of Invalid Measurements\\')\\nplt.title(\\'Invalid Temperature Measurements by Hour\\')\\nplt.xticks(range(24), [f\"{h}:00\" for h in range(24)], rotation=45)\\nplt.tight_layout()\\nplt.show()\\n'"
      ]
     },
     "execution_count": 15,
     "metadata": {},
     "output_type": "execute_result"
    }
   ],
   "source": [
    "\"\"\"\n",
    "### Analyzing invalid temperature measruements by time\n",
    "\n",
    "# 1. Filter out the “invalid” rows where temp starts with '+9999'\n",
    "invalids = df[df['temp'].str.startswith('+9999')]\n",
    "\n",
    "# 2. Count how many invalids occur in each hour (0–23)\n",
    "freq_by_hour = (\n",
    "    invalids\n",
    "    .groupby(invalids.index.hour)\n",
    "    .size()\n",
    "    .reindex(range(24), fill_value=0)\n",
    ")\n",
    "\n",
    "# 3. Plot a bar chart\n",
    "plt.figure(figsize=(10, 5))\n",
    "freq_by_hour.plot(kind='bar')\n",
    "plt.xlabel('Hour of Day')\n",
    "plt.ylabel('Count of Invalid Measurements')\n",
    "plt.title('Invalid Temperature Measurements by Hour')\n",
    "plt.xticks(range(24), [f\"{h}:00\" for h in range(24)], rotation=45)\n",
    "plt.tight_layout()\n",
    "plt.show()\n",
    "\"\"\""
   ]
  },
  {
   "cell_type": "code",
   "execution_count": 16,
   "id": "04788299-a418-42c7-9ffa-82a5e5ebc4f6",
   "metadata": {},
   "outputs": [
    {
     "data": {
      "text/plain": [
       "\"\\ninvalid_readings = df[df['temp'] == '+9999,9']\\ninvalid_readings.iloc[5:10,:]\\n\""
      ]
     },
     "execution_count": 16,
     "metadata": {},
     "output_type": "execute_result"
    }
   ],
   "source": [
    "'''\n",
    "invalid_readings = df[df['temp'] == '+9999,9']\n",
    "invalid_readings.iloc[5:10,:]\n",
    "'''"
   ]
  },
  {
   "cell_type": "code",
   "execution_count": 7,
   "id": "937a5635-5a07-4f28-a806-1427c155d872",
   "metadata": {},
   "outputs": [],
   "source": [
    "# Dropping any invalid rows\n",
    "df = df[df['temp'] != '+9999,9'].reset_index(drop=True)"
   ]
  },
  {
   "cell_type": "code",
   "execution_count": 8,
   "id": "508c97c7-61e9-4965-bacd-3d220e48e2a1",
   "metadata": {},
   "outputs": [],
   "source": [
    "# Converting temperature to the true temperature int value reading\n",
    "df['temp'] = (\n",
    "    df['temp']\n",
    "      .str.replace(r',.*$', '', regex=True)   # drop comma + quality code\n",
    "      .astype(int)                            # \"+0234\" → 234\n",
    "      .div(10)                                # 234 → 23.4°C\n",
    ")"
   ]
  },
  {
   "cell_type": "code",
   "execution_count": null,
   "id": "0aa92bef-c458-46fd-99c1-d5b08e3c94ad",
   "metadata": {},
   "outputs": [],
   "source": [
    "# Calculating highest temperature so far\n"
   ]
  },
  {
   "cell_type": "code",
   "execution_count": 16,
   "id": "cc179296-1348-4516-854d-37137b6987b8",
   "metadata": {},
   "outputs": [],
   "source": [
    "### Removing invalid data points from the rows and setting them to NaN\n",
    "\n",
    "# Removing invalid df from the wind column\n",
    "parts = df['wind'].str.split(',', expand=True)\n",
    "df.drop(columns=['wind'],inplace=True)"
   ]
  },
  {
   "cell_type": "code",
   "execution_count": 17,
   "id": "9f73426d-8f62-4327-9c08-d4d4cc4c27dd",
   "metadata": {},
   "outputs": [],
   "source": [
    "parts[0].replace('999', np.nan, inplace=True)\n",
    "parts[2].replace('9', np.nan, inplace=True)\n",
    "parts[3].replace('9999', np.nan,inplace=True)\n",
    "\n",
    "parts.drop(columns=[1,4],inplace=True)"
   ]
  },
  {
   "cell_type": "code",
   "execution_count": 18,
   "id": "1a7647a4-3095-4ac3-88b6-8517153cbb69",
   "metadata": {},
   "outputs": [
    {
     "data": {
      "text/html": [
       "<div>\n",
       "<style scoped>\n",
       "    .dataframe tbody tr th:only-of-type {\n",
       "        vertical-align: middle;\n",
       "    }\n",
       "\n",
       "    .dataframe tbody tr th {\n",
       "        vertical-align: top;\n",
       "    }\n",
       "\n",
       "    .dataframe thead th {\n",
       "        text-align: right;\n",
       "    }\n",
       "</style>\n",
       "<table border=\"1\" class=\"dataframe\">\n",
       "  <thead>\n",
       "    <tr style=\"text-align: right;\">\n",
       "      <th></th>\n",
       "      <th>0</th>\n",
       "      <th>2</th>\n",
       "      <th>3</th>\n",
       "    </tr>\n",
       "  </thead>\n",
       "  <tbody>\n",
       "    <tr>\n",
       "      <th>0</th>\n",
       "      <td>260</td>\n",
       "      <td>N</td>\n",
       "      <td>0021</td>\n",
       "    </tr>\n",
       "    <tr>\n",
       "      <th>1</th>\n",
       "      <td>240</td>\n",
       "      <td>N</td>\n",
       "      <td>0015</td>\n",
       "    </tr>\n",
       "    <tr>\n",
       "      <th>2</th>\n",
       "      <td>NaN</td>\n",
       "      <td>V</td>\n",
       "      <td>0021</td>\n",
       "    </tr>\n",
       "    <tr>\n",
       "      <th>3</th>\n",
       "      <td>NaN</td>\n",
       "      <td>NaN</td>\n",
       "      <td>NaN</td>\n",
       "    </tr>\n",
       "    <tr>\n",
       "      <th>4</th>\n",
       "      <td>NaN</td>\n",
       "      <td>V</td>\n",
       "      <td>0021</td>\n",
       "    </tr>\n",
       "  </tbody>\n",
       "</table>\n",
       "</div>"
      ],
      "text/plain": [
       "     0    2     3\n",
       "0  260    N  0021\n",
       "1  240    N  0015\n",
       "2  NaN    V  0021\n",
       "3  NaN  NaN   NaN\n",
       "4  NaN    V  0021"
      ]
     },
     "execution_count": 18,
     "metadata": {},
     "output_type": "execute_result"
    }
   ],
   "source": [
    "parts.head()\n",
    "\n",
    "# Column 1: Direction angle in degrees\n",
    "# Column 2: Wind observation type code\n",
    "# Column 3: Wind observation speed rate (in 0.1 m/s)"
   ]
  },
  {
   "cell_type": "code",
   "execution_count": 19,
   "id": "9fa44a36-7e69-4c8f-b3d5-43b268d4ae51",
   "metadata": {},
   "outputs": [],
   "source": [
    "df['wind_dir'] = pd.to_numeric(parts[0], errors='coerce')\n",
    "df['wind_type_code'] = parts[2]\n",
    "df['wind_spd'] = pd.to_numeric(parts[3], errors='coerce')"
   ]
  },
  {
   "cell_type": "code",
   "execution_count": 20,
   "id": "b95c676a-8bb0-42b2-8349-92e7a7000098",
   "metadata": {},
   "outputs": [
    {
     "data": {
      "text/html": [
       "<div>\n",
       "<style scoped>\n",
       "    .dataframe tbody tr th:only-of-type {\n",
       "        vertical-align: middle;\n",
       "    }\n",
       "\n",
       "    .dataframe tbody tr th {\n",
       "        vertical-align: top;\n",
       "    }\n",
       "\n",
       "    .dataframe thead th {\n",
       "        text-align: right;\n",
       "    }\n",
       "</style>\n",
       "<table border=\"1\" class=\"dataframe\">\n",
       "  <thead>\n",
       "    <tr style=\"text-align: right;\">\n",
       "      <th></th>\n",
       "      <th>DATE</th>\n",
       "      <th>CALL_SIGN</th>\n",
       "      <th>temp</th>\n",
       "      <th>cloud_ceiling_height</th>\n",
       "      <th>visibility</th>\n",
       "      <th>dew_point_pressure</th>\n",
       "      <th>sea_level_pressure</th>\n",
       "      <th>wind_dir</th>\n",
       "      <th>wind_type_code</th>\n",
       "      <th>wind_spd</th>\n",
       "    </tr>\n",
       "  </thead>\n",
       "  <tbody>\n",
       "    <tr>\n",
       "      <th>0</th>\n",
       "      <td>2015-01-01T00:51:00</td>\n",
       "      <td>KNYC</td>\n",
       "      <td>-0011,5</td>\n",
       "      <td>22000,5,9,N</td>\n",
       "      <td>016093,5,N,5</td>\n",
       "      <td>-0139,5</td>\n",
       "      <td>10235,5</td>\n",
       "      <td>260.0</td>\n",
       "      <td>N</td>\n",
       "      <td>21.0</td>\n",
       "    </tr>\n",
       "    <tr>\n",
       "      <th>1</th>\n",
       "      <td>2015-01-01T01:51:00</td>\n",
       "      <td>KNYC</td>\n",
       "      <td>-0011,5</td>\n",
       "      <td>22000,5,9,N</td>\n",
       "      <td>016093,5,N,5</td>\n",
       "      <td>-0144,5</td>\n",
       "      <td>10230,5</td>\n",
       "      <td>240.0</td>\n",
       "      <td>N</td>\n",
       "      <td>15.0</td>\n",
       "    </tr>\n",
       "    <tr>\n",
       "      <th>2</th>\n",
       "      <td>2015-01-01T02:51:00</td>\n",
       "      <td>KNYC</td>\n",
       "      <td>-0011,5</td>\n",
       "      <td>22000,5,9,N</td>\n",
       "      <td>016093,5,N,5</td>\n",
       "      <td>-0133,5</td>\n",
       "      <td>10223,5</td>\n",
       "      <td>NaN</td>\n",
       "      <td>V</td>\n",
       "      <td>21.0</td>\n",
       "    </tr>\n",
       "    <tr>\n",
       "      <th>3</th>\n",
       "      <td>2015-01-01T03:51:00</td>\n",
       "      <td>KNYC</td>\n",
       "      <td>-0017,5</td>\n",
       "      <td>22000,5,9,N</td>\n",
       "      <td>016093,5,N,5</td>\n",
       "      <td>-0128,5</td>\n",
       "      <td>10220,5</td>\n",
       "      <td>NaN</td>\n",
       "      <td>NaN</td>\n",
       "      <td>NaN</td>\n",
       "    </tr>\n",
       "    <tr>\n",
       "      <th>4</th>\n",
       "      <td>2015-01-01T04:51:00</td>\n",
       "      <td>KNYC</td>\n",
       "      <td>-0022,5</td>\n",
       "      <td>22000,5,9,N</td>\n",
       "      <td>016093,5,N,5</td>\n",
       "      <td>-0128,5</td>\n",
       "      <td>10218,5</td>\n",
       "      <td>NaN</td>\n",
       "      <td>V</td>\n",
       "      <td>21.0</td>\n",
       "    </tr>\n",
       "  </tbody>\n",
       "</table>\n",
       "</div>"
      ],
      "text/plain": [
       "                  DATE CALL_SIGN     temp cloud_ceiling_height    visibility  \\\n",
       "0  2015-01-01T00:51:00     KNYC   -0011,5          22000,5,9,N  016093,5,N,5   \n",
       "1  2015-01-01T01:51:00     KNYC   -0011,5          22000,5,9,N  016093,5,N,5   \n",
       "2  2015-01-01T02:51:00     KNYC   -0011,5          22000,5,9,N  016093,5,N,5   \n",
       "3  2015-01-01T03:51:00     KNYC   -0017,5          22000,5,9,N  016093,5,N,5   \n",
       "4  2015-01-01T04:51:00     KNYC   -0022,5          22000,5,9,N  016093,5,N,5   \n",
       "\n",
       "  dew_point_pressure sea_level_pressure  wind_dir wind_type_code  wind_spd  \n",
       "0            -0139,5            10235,5     260.0              N      21.0  \n",
       "1            -0144,5            10230,5     240.0              N      15.0  \n",
       "2            -0133,5            10223,5       NaN              V      21.0  \n",
       "3            -0128,5            10220,5       NaN            NaN       NaN  \n",
       "4            -0128,5            10218,5       NaN              V      21.0  "
      ]
     },
     "execution_count": 20,
     "metadata": {},
     "output_type": "execute_result"
    }
   ],
   "source": [
    "df.head()"
   ]
  },
  {
   "cell_type": "code",
   "execution_count": 30,
   "id": "7c53d210-516b-40b9-941d-1cc1b5060dec",
   "metadata": {},
   "outputs": [],
   "source": [
    "# 1) Vector components (u, v) at each hour  ────────────────────────────\n",
    "θ               = np.deg2rad(df[\"wind_dir\"])        # deg → rad\n",
    "df[\"u\"]         = df[\"wind_spd\"] * np.sin(θ)        # +u = eastward\n",
    "df[\"v\"]         = df[\"wind_spd\"] * np.cos(θ)        # +v = northward\n",
    "df[\"dir_sin\"]   = np.sin(θ)                         # keep raw sin / cos too\n",
    "df[\"dir_cos\"]   = np.cos(θ)"
   ]
  },
  {
   "cell_type": "code",
   "execution_count": 31,
   "id": "44559ac1-2e36-4f1d-93a1-5c2447c39216",
   "metadata": {},
   "outputs": [],
   "source": [
    "# 2) Gustiness *so far today*  (prefix-day)\n",
    "df[\"gust_flag\"] = (df[\"wind_spd\"] > 8).astype(int)  # tweak threshold as needed\n",
    "\n",
    "# expanding count & index (max-min) up through t_pred\n",
    "df[\"gust_cnt_to_now\"] = (\n",
    "    df.groupby(\"date\")[\"gust_flag\"]\n",
    "      .expanding()\n",
    "      .sum()\n",
    "      .reset_index(level=0, drop=True)\n",
    ")\n",
    "\n",
    "df[\"gust_idx_to_now\"] = (\n",
    "    df.groupby(\"date\")[\"wind_spd\"]\n",
    "      .expanding()\n",
    "      .apply(lambda s: s.max() - s.min(), raw=True)\n",
    "      .reset_index(level=0, drop=True)\n",
    ")"
   ]
  },
  {
   "cell_type": "code",
   "execution_count": 32,
   "id": "66fb81bb-bb05-40db-9090-4a88bf150536",
   "metadata": {},
   "outputs": [],
   "source": [
    "# 3) Directional persistence: 24-h circular variance (uses *past* 24 h only)\n",
    "θ = np.deg2rad(df[\"wind_dir\"])\n",
    "sin24 = np.sin(θ).rolling(24, min_periods=3).mean()   # need ≥3 pts for stability\n",
    "cos24 = np.cos(θ).rolling(24, min_periods=3).mean()\n",
    "df[\"dir_var24\"] = 1.0 - np.sqrt(sin24**2 + cos24**2)"
   ]
  },
  {
   "cell_type": "code",
   "execution_count": null,
   "id": "ac4ce30b-c211-4815-871e-d896a2bd0d20",
   "metadata": {},
   "outputs": [],
   "source": [
    "# 4) Sector fractions *so far today* (N, E, S, W)  ─────────────────────\n",
    "# --- 1. Bin wind directions into sectors -----------------------------\n",
    "bins   = [-1, 45, 135, 225, 315, 360]         # edges in degrees\n",
    "labels = [\"N\", \"E\", \"S\", \"W\", \"N\"]            # wrap 0–45° and 315–360° to \"N\"\n",
    "\n",
    "sector = pd.cut(\n",
    "    df[\"wind_dir\"],\n",
    "    bins=bins,\n",
    "    labels=labels,\n",
    "    ordered=False            # <-- allows duplicate \"N\" labels\n",
    ")\n",
    "\n",
    "# --- 2. One-hot encode each sector (hourly 0/1 flags) -----------------\n",
    "sec_dum = pd.get_dummies(sector, prefix=\"sec\")   # e.g. sec_N, sec_E, ...\n",
    "\n",
    "# attach the dummies to the main DataFrame\n",
    "df = df.join(sec_dum)\n",
    "\n",
    "# --- 3. Running (expanding) fraction of hours in each sector ---------\n",
    "# create a \"date\" column: today's midnight stamp\n",
    "df[\"date\"] = df.index.normalize()\n",
    "\n",
    "# for every sector dummy, compute the expanding mean within each day\n",
    "for col in sec_dum.columns:\n",
    "    df[f\"{col}_frac_to_now\"] = (\n",
    "        df.groupby(\"date\")[col]            # group by calendar day\n",
    "          .expanding()                     # cumulative window\n",
    "          .mean()                          # running fraction\n",
    "          .reset_index(level=0, drop=True) # align back to original index\n",
    "    )\n",
    "\n",
    "# Now at the current timestamp (e.g. 12:00) each *_frac_to_now column\n",
    "# holds the fraction of the day’s hours so far that came from that sector."
   ]
  },
  {
   "cell_type": "code",
   "execution_count": null,
   "id": "6acfaf50-93c5-40e1-9070-bc5741840fa9",
   "metadata": {},
   "outputs": [],
   "source": [
    "# 5)Lagged wind snapshot (1 h, 3 h, 6 h before t_pred) ────────────────\n",
    "for lag in [1, 3, 6]:\n",
    "    df[f\"u_lag{lag}h\"]   = df[\"u\"].shift(lag)\n",
    "    df[f\"v_lag{lag}h\"]   = df[\"v\"].shift(lag)\n",
    "    df[f\"spd_lag{lag}h\"] = df[\"wind_spd\"].shift(lag)\n",
    "# At prediction time row (t_pred) these hold the desired lags."
   ]
  },
  {
   "cell_type": "code",
   "execution_count": null,
   "id": "ceee1a92-88da-46b0-aa5d-b6d839cd1ecd",
   "metadata": {},
   "outputs": [],
   "source": [
    "# 6) Calm-hour fraction so far today  ───────────────────────────────────\n",
    "df[\"calm\"] = (df[\"wind_spd\"] < 1).astype(int)\n",
    "\n",
    "df[\"calm_frac_to_now\"] = (\n",
    "    df.groupby(\"date\")[\"calm\"]\n",
    "      .expanding()\n",
    "      .mean()\n",
    "      .reset_index(level=0, drop=True)\n",
    ")"
   ]
  },
  {
   "cell_type": "code",
   "execution_count": null,
   "id": "8be86133-3745-479f-a301-065737381284",
   "metadata": {},
   "outputs": [],
   "source": [
    "# 7) Wind-type categorical fractions so far today  ──────────────────────\n",
    "wt_dum = pd.get_dummies(df[\"wind_type\"].fillna(\"M\"), prefix=\"wt\")\n",
    "df[wt_dum.columns] = wt_dum\n",
    "\n",
    "for col in wt_dum.columns:\n",
    "    df[f\"{col}_frac_to_now\"] = (\n",
    "        df.groupby(\"date\")[col]\n",
    "          .expanding()\n",
    "          .mean()\n",
    "          .reset_index(level=0, drop=True)\n",
    "    )"
   ]
  },
  {
   "cell_type": "code",
   "execution_count": null,
   "id": "e463fd3e-794f-435c-b26b-3f7484369891",
   "metadata": {},
   "outputs": [],
   "source": [
    "# 8) Seasonal interaction (works fine mid-day)  ─────────────────────────\n",
    "df[\"doy\"] = df.index.dayofyear\n",
    "ω         = 2 * np.pi * df[\"doy\"] / 365.25\n",
    "df[\"u_doysin\"] = df[\"u\"] * np.sin(ω)\n",
    "df[\"v_doycos\"] = df[\"v\"] * np.cos(ω)"
   ]
  },
  {
   "cell_type": "code",
   "execution_count": 22,
   "id": "c91f0eea-8fc2-453e-8a76-89a0456ccac2",
   "metadata": {},
   "outputs": [
    {
     "data": {
      "text/html": [
       "<div>\n",
       "<style scoped>\n",
       "    .dataframe tbody tr th:only-of-type {\n",
       "        vertical-align: middle;\n",
       "    }\n",
       "\n",
       "    .dataframe tbody tr th {\n",
       "        vertical-align: top;\n",
       "    }\n",
       "\n",
       "    .dataframe thead th {\n",
       "        text-align: right;\n",
       "    }\n",
       "</style>\n",
       "<table border=\"1\" class=\"dataframe\">\n",
       "  <thead>\n",
       "    <tr style=\"text-align: right;\">\n",
       "      <th></th>\n",
       "      <th>date</th>\n",
       "      <th>call_sign</th>\n",
       "      <th>temp</th>\n",
       "      <th>cloud_ceiling_height</th>\n",
       "      <th>visibility</th>\n",
       "      <th>dew_point_pressure</th>\n",
       "      <th>sea_level_pressure</th>\n",
       "      <th>wind</th>\n",
       "    </tr>\n",
       "  </thead>\n",
       "  <tbody>\n",
       "    <tr>\n",
       "      <th>0</th>\n",
       "      <td>2015-01-01 00:00:00+00:00</td>\n",
       "      <td>KNYC</td>\n",
       "      <td>-1.1</td>\n",
       "      <td>22000,5,9,N</td>\n",
       "      <td>016093,5,N,5</td>\n",
       "      <td>-0139,5</td>\n",
       "      <td>10235,5</td>\n",
       "      <td>260,5,N,0021,5</td>\n",
       "    </tr>\n",
       "    <tr>\n",
       "      <th>1</th>\n",
       "      <td>2015-01-01 00:00:00+00:00</td>\n",
       "      <td>KNYC</td>\n",
       "      <td>-1.1</td>\n",
       "      <td>22000,5,9,N</td>\n",
       "      <td>016093,5,N,5</td>\n",
       "      <td>-0144,5</td>\n",
       "      <td>10230,5</td>\n",
       "      <td>240,5,N,0015,5</td>\n",
       "    </tr>\n",
       "    <tr>\n",
       "      <th>2</th>\n",
       "      <td>2015-01-01 00:00:00+00:00</td>\n",
       "      <td>KNYC</td>\n",
       "      <td>-1.1</td>\n",
       "      <td>22000,5,9,N</td>\n",
       "      <td>016093,5,N,5</td>\n",
       "      <td>-0133,5</td>\n",
       "      <td>10223,5</td>\n",
       "      <td>999,9,V,0021,5</td>\n",
       "    </tr>\n",
       "    <tr>\n",
       "      <th>3</th>\n",
       "      <td>2015-01-01 00:00:00+00:00</td>\n",
       "      <td>KNYC</td>\n",
       "      <td>-1.7</td>\n",
       "      <td>22000,5,9,N</td>\n",
       "      <td>016093,5,N,5</td>\n",
       "      <td>-0128,5</td>\n",
       "      <td>10220,5</td>\n",
       "      <td>999,9,9,9999,9</td>\n",
       "    </tr>\n",
       "    <tr>\n",
       "      <th>4</th>\n",
       "      <td>2015-01-01 00:00:00+00:00</td>\n",
       "      <td>KNYC</td>\n",
       "      <td>-2.2</td>\n",
       "      <td>22000,5,9,N</td>\n",
       "      <td>016093,5,N,5</td>\n",
       "      <td>-0128,5</td>\n",
       "      <td>10218,5</td>\n",
       "      <td>999,9,V,0021,5</td>\n",
       "    </tr>\n",
       "  </tbody>\n",
       "</table>\n",
       "</div>"
      ],
      "text/plain": [
       "                       date call_sign  temp cloud_ceiling_height  \\\n",
       "0 2015-01-01 00:00:00+00:00     KNYC   -1.1          22000,5,9,N   \n",
       "1 2015-01-01 00:00:00+00:00     KNYC   -1.1          22000,5,9,N   \n",
       "2 2015-01-01 00:00:00+00:00     KNYC   -1.1          22000,5,9,N   \n",
       "3 2015-01-01 00:00:00+00:00     KNYC   -1.7          22000,5,9,N   \n",
       "4 2015-01-01 00:00:00+00:00     KNYC   -2.2          22000,5,9,N   \n",
       "\n",
       "     visibility dew_point_pressure sea_level_pressure            wind  \n",
       "0  016093,5,N,5            -0139,5            10235,5  260,5,N,0021,5  \n",
       "1  016093,5,N,5            -0144,5            10230,5  240,5,N,0015,5  \n",
       "2  016093,5,N,5            -0133,5            10223,5  999,9,V,0021,5  \n",
       "3  016093,5,N,5            -0128,5            10220,5  999,9,9,9999,9  \n",
       "4  016093,5,N,5            -0128,5            10218,5  999,9,V,0021,5  "
      ]
     },
     "execution_count": 22,
     "metadata": {},
     "output_type": "execute_result"
    }
   ],
   "source": [
    "df.head()"
   ]
  },
  {
   "cell_type": "code",
   "execution_count": null,
   "id": "a60d71ea-410f-4c65-a02f-e8446a929261",
   "metadata": {},
   "outputs": [],
   "source": []
  }
 ],
 "metadata": {
  "kernelspec": {
   "display_name": "Python 3 (ipykernel)",
   "language": "python",
   "name": "python3"
  },
  "language_info": {
   "codemirror_mode": {
    "name": "ipython",
    "version": 3
   },
   "file_extension": ".py",
   "mimetype": "text/x-python",
   "name": "python",
   "nbconvert_exporter": "python",
   "pygments_lexer": "ipython3",
   "version": "3.13.3"
  }
 },
 "nbformat": 4,
 "nbformat_minor": 5
}
